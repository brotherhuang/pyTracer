{
 "cells": [
  {
   "cell_type": "markdown",
   "metadata": {},
   "source": [
    "# PyTracer Quick Start Guide\n",
    "\n",
    "--------------\n",
    "\n",
    "\n",
    "\n",
    "In this quick start tutorial, we use a simple\n",
    "example to illustrate the basic work flow\n",
    "of PyTracer. Concretely, we will render\n",
    "a sphere (as a built-in `Sphere` object) and a\n",
    "slab (as modeled by a triangle mesh) under the\n",
    "illumination of a spherical diffuse area light.\n",
    "\n",
    "Essentially, we will model the scene and camera\n",
    "separately, hence the `Scene` object, after constructed.\n",
    "can be reused with different configuration\n",
    "of `Camera`. We shall thereafter initiate\n",
    "the main rendering loop and PyTracer will\n",
    "handle all the remaining work."
   ]
  },
  {
   "cell_type": "code",
   "execution_count": 1,
   "metadata": {},
   "outputs": [],
   "source": [
    "from __future__ import (absolute_import, print_function, division)\n",
    "import numpy as np\n",
    "import matplotlib.pyplot as plt\n",
    "from pytracer import *\n",
    "# from pytracer import Spectrum\n",
    "\n",
    "# init spectrum (if applicable)\n",
    "# must be first initialized if\n",
    "# we use sampled texture/material,\n",
    "# e.g., sampled BRDF or SPD texture\n",
    "Spectrum.init()\n",
    "\n",
    "plt.axis('off')\n",
    "\n",
    "np.random.seed(1)\n",
    "\n",
    "%load_ext autoreload\n",
    "%autoreload 2\n",
    "%matplotlib inline"
   ]
  },
  {
   "cell_type": "markdown",
   "metadata": {},
   "source": [
    "## Model Construction\n",
    "\n",
    "### Transformations\n",
    "\n",
    "\n",
    "`Transformation` objects are such that we use to specify\n",
    "how the entities are placed in thw world. PyTracer uses\n",
    "the left-handed coordinate system; each entity, including\n",
    "`Shape`s and `Camera`s are build in their object coordinate system.\n",
    "Different constructors\n",
    "of `Transform` can be used including `rotate`, `translate`, `look_at`\n",
    "and so on are defined for properly placing entities at convenience.\n",
    "\n",
    "We will manually specify the placement of each entity\n",
    "by way of `Transformation` in the sequel."
   ]
  },
  {
   "cell_type": "code",
   "execution_count": 2,
   "metadata": {
    "collapsed": true
   },
   "outputs": [],
   "source": [
    "from pytracer.geometry import (Vector, Point)\n",
    "from pytracer.transform import (Transform, AnimatedTransform)"
   ]
  },
  {
   "cell_type": "markdown",
   "metadata": {},
   "source": [
    "### Geometric Primitive and Light Construction\n",
    "\n",
    "We start by modeling a full sphere with radius $2$.\n",
    "Materials or textures also need to be specified for rendering.\n",
    "PyTracer has many build-in materials and textures. Generally,\n",
    "each `Material` is constructed with several `Texture` parameters\n",
    "specified. Each `Texture` can be constructed from a float scalar,\n",
    "or a `Spectrum` type.\n",
    "Measured `Texture` and `Material` are also supported, for example,\n",
    "the measured BRDF or SPD texture.\n",
    "\n",
    "Here we will use a simple `MatteMaterial` for the back slab; and\n",
    "a `UberMaterial` for the `Sphere`.\n",
    "\n",
    "Light source is also constructed at this stage, we build\n",
    "a dufuse area light source by attaching a `Sphere` object\n",
    "to it."
   ]
  },
  {
   "cell_type": "code",
   "execution_count": 3,
   "metadata": {
    "collapsed": true
   },
   "outputs": [],
   "source": [
    "from pytracer.shape import (Sphere, create_triangle_mesh)\n",
    "from pytracer.aggregate import GeometricPrimitive\n",
    "from pytracer.light import DiffuseAreaLight\n",
    "from pytracer.texture import ConstantTexture\n",
    "from pytracer.material import (MatteMaterial, UberMaterial)\n",
    "\n",
    "# slab\n",
    "back_param = {\n",
    "\t'indices': [0, 1, 2, 2, 0, 3],\n",
    "\t'P': [-20, 0, -10,\n",
    "          20, 0, -10,\n",
    "          20, 9, -10,\n",
    "          -20, 9, -10]\n",
    "}\n",
    "back_Kd = ConstantTexture(Spectrum([.1, .1, .1]))\n",
    "back_sigma = ConstantTexture(0.)\n",
    "back_mat = MatteMaterial(back_Kd, back_sigma)\n",
    "back_trans = Transform.translate(Vector(0., -5., 0.))\n",
    "back_shape = create_triangle_mesh(back_trans, back_trans.inverse(), False, back_param)\n",
    "back = GeometricPrimitive(back_shape, back_mat)\n",
    "\n",
    "\n",
    "# spheres\n",
    "sphere_transform = Transform.translate(Vector(.5, .5, -6))\n",
    "sphere_shape = Sphere(sphere_transform, sphere_transform.inverse(), False,  # whther reverse orientation\n",
    "                      2., -2., 2., 360.)  # for partial sphere: radius, z_min, z_max, phi_max (in degrees)\n",
    "\n",
    "# material\n",
    "Kd = ConstantTexture(Spectrum([.25, .25, .25]))\n",
    "Ks = ConstantTexture(Spectrum([.25, .25, .25]))\n",
    "Kr = ConstantTexture(Spectrum([0., 0., 0.]))\n",
    "Kt = ConstantTexture(Spectrum([.25, .25, .25]))\n",
    "roughness = ConstantTexture(0.1)\n",
    "opacity = ConstantTexture(Spectrum([1., 1., 1.]))\n",
    "eta = ConstantTexture(1.5)\n",
    "sphere_material = UberMaterial(Kd, Ks, Kr, Kt, roughness, opacity, eta)\n",
    "\n",
    "sphere = GeometricPrimitive(sphere_shape, sphere_material)\n",
    "shapes = [back, sphere]\n",
    "\n",
    "light_transform = Transform.translate(Vector(0., 1., 5.))\n",
    "light_shape = Sphere(light_transform, light_transform.inverse(), False, 1., -1., 1., 360.)\n",
    "light = DiffuseAreaLight(light_transform, Spectrum(10.), 2, light_shape)\n",
    "\n",
    "lights = [light]"
   ]
  },
  {
   "cell_type": "markdown",
   "metadata": {},
   "source": [
    "### Aggregation and Acceleration Structure\n",
    "\n",
    "Now we will make several encapsulations.\n",
    "First we pack all `Shape`s in the scene into some acceleration structures,\n",
    "here we select Bounding Volume Hierarchy (`BVH`) for fast ray-shape intersection\n",
    "test, though we only have one two `Shape`s; next we encapsulate the aggregation\n",
    "and lights to a `Scene` object. `Scene` objects are later passed to\n",
    "some `Renderer` for rendereing. It is designed to be reusable."
   ]
  },
  {
   "cell_type": "code",
   "execution_count": 4,
   "metadata": {
    "collapsed": true
   },
   "outputs": [],
   "source": [
    "from pytracer.scene import Scene\n",
    "from pytracer.aggregate import BVH\n",
    "aggs = BVH(shapes, False)\n",
    "scene = Scene(aggs, lights, None)"
   ]
  },
  {
   "cell_type": "markdown",
   "metadata": {},
   "source": [
    "## Camera Construction\n",
    "\n",
    "### Camera and Sub-pixel Sampling\n",
    "\n",
    "\n",
    "Next we will configure the `Camera` placement.\n",
    "`Camera` are assumed to be movable, with movements interpolated\n",
    "using quaternion interpolation; this functionality has not\n",
    "been fully implemented though.\n",
    "PyTracer supports projective, perspective and\n",
    "orthographic cameras. Here we use a `ProjectiveCamera`.\n",
    "Noted for multiplcation is overloaded for `Transform` for\n",
    "cascading transformations.\n",
    "\n",
    "Each `Camera` possesses a `Film` object responsible\n",
    "for pixel updating and writing traced image to file. PyTracer\n",
    "uses sub-pixel sampling, hence a `Filter` is needed for `Film`\n",
    "to properly handle the interpolation.\n",
    "Sub-pixel samples are generated by the `Sampler`, which internally\n",
    "uses the `numpy` random generator."
   ]
  },
  {
   "cell_type": "code",
   "execution_count": 5,
   "metadata": {
    "collapsed": true
   },
   "outputs": [],
   "source": [
    "from pytracer.camera import PerspectiveCamera\n",
    "from pytracer.film import ImageFilm\n",
    "from pytracer.filter import LanczosSincFilter\n",
    "from pytracer.sampler import StratifiedSampler\n",
    "\n",
    "\n",
    "# image resolution\n",
    "x_res, y_res = 64, 64\n",
    "\n",
    "# samples per pixel\n",
    "x_spr, y_spr = 2, 2\n",
    "\n",
    "# specify sampler\n",
    "sampler = StratifiedSampler(0, x_res, 0, y_res, x_spr, y_spr, True, 0., 0.)\n",
    "\n",
    "# specify placement for camera\n",
    "trans = Transform.translate(Vector(3.5, 3.5, 1.)) * Transform.look_at(Point(0.1, 0., 0.), Point(0., 0., -1.), Vector(0., 0., 1.))\n",
    "cam_trans = AnimatedTransform(trans, 0., trans, 0.)\n",
    "\n",
    "# create film\n",
    "# (xr, yr) is the image resolution in pixels\n",
    "# if no file name specified, a temporary file\n",
    "# `.tmp.png` is created\n",
    "film = ImageFilm(xr=x_res, yr=y_res, filt=LanczosSincFilter(4., 4., 3.),\n",
    "                 crop=[0., 1., 0., 1.], fn='tmp.png')\n",
    "\n",
    "camera = PerspectiveCamera(cam_trans, scr_win=[0., 1., 0., 1.], s_open=0.,\n",
    "                           s_close=0., lensr=0., focald=1e100, fov=90., f=film)"
   ]
  },
  {
   "cell_type": "markdown",
   "metadata": {},
   "source": [
    "## Light Transport and Rendering Loop\n",
    "\n",
    "Finally, we specify the sampler, integrators\n",
    "and renderer being used."
   ]
  },
  {
   "cell_type": "code",
   "execution_count": 6,
   "metadata": {
    "collapsed": true
   },
   "outputs": [],
   "source": [
    "from pytracer.integrator import DirectLightingIntegrator\n",
    "from pytracer.renderer import SamplerRenderer\n",
    "\n",
    "surface_integrator = DirectLightingIntegrator()\n",
    "renderer = SamplerRenderer(sampler, camera, surface_integrator, None)  # VolumeIntegrator: coming soon"
   ]
  },
  {
   "cell_type": "markdown",
   "metadata": {},
   "source": [
    "Hereafter we may enter the main rendering loop.\n",
    "A progress bar is displayed for reporting the\n",
    "current status. Images are *always* written on\n",
    "completion, by default to `tmp.png`. A `numpy` array\n",
    "of shape `x_res * y_res * 3` is also returned. Internally,\n",
    "we use Pillow for image I/O."
   ]
  },
  {
   "cell_type": "code",
   "execution_count": 7,
   "metadata": {},
   "outputs": [
    {
     "name": "stdout",
     "output_type": "stream",
     "text": [
      "Rendering |████████████████████████████████████████████████████████████████████████████████████████████████████| 100.0% \n"
     ]
    }
   ],
   "source": [
    "image = renderer.render(scene)"
   ]
  },
  {
   "cell_type": "code",
   "execution_count": 8,
   "metadata": {},
   "outputs": [
    {
     "data": {
      "text/plain": [
       "<matplotlib.image.AxesImage at 0x10e54c0b8>"
      ]
     },
     "execution_count": 8,
     "metadata": {},
     "output_type": "execute_result"
    },
    {
     "data": {
      "image/png": "[encoded data removed]",
      "text/plain": [
       "<matplotlib.figure.Figure at 0x10e2a19e8>"
      ]
     },
     "metadata": {},
     "output_type": "display_data"
    }
   ],
   "source": [
    "plt.imshow(image)"
   ]
  },
  {
   "cell_type": "markdown",
   "metadata": {},
   "source": [
    "## Import Models\n",
    "\n",
    "We may also direct `import` constructed models.\n",
    "The saperation between `Scene` and `Camera` in\n",
    "rendering enables reusing the `Scene` object\n",
    "once loaded. We will next load the head mesh\n",
    "model and trace it."
   ]
  },
  {
   "cell_type": "code",
   "execution_count": 9,
   "metadata": {},
   "outputs": [
    {
     "name": "stdout",
     "output_type": "stream",
     "text": [
      "Rendering |████████████████████████████████████████████████████████████████████████████████████████████████████| 100.0% \n"
     ]
    }
   ],
   "source": [
    "import examples.head_mesh as model\n",
    "\n",
    "# construct camera with preferred configuration\n",
    "camera = model.configure_camera(x_res=128, y_res=128)\n",
    "sampler = StratifiedSampler(0, 128, 0, 128, 1, 1, True, 0., 0.)\n",
    "surf_int = DirectLightingIntegrator()\n",
    "\n",
    "renderer = SamplerRenderer(sampler, camera, surf_int, None)\n",
    "image = renderer.render(model.scene)"
   ]
  },
  {
   "cell_type": "code",
   "execution_count": 10,
   "metadata": {},
   "outputs": [
    {
     "data": {
      "text/plain": [
       "<matplotlib.image.AxesImage at 0x10f04ca90>"
      ]
     },
     "execution_count": 10,
     "metadata": {},
     "output_type": "execute_result"
    },
    {
     "data": {
      "image/png": "[encoded data removed]",
      "text/plain": [
       "<matplotlib.figure.Figure at 0x10e5f2f60>"
      ]
     },
     "metadata": {},
     "output_type": "display_data"
    }
   ],
   "source": [
    "plt.imshow(image)"
   ]
  }
 ],
 "metadata": {
  "kernelspec": {
   "display_name": "Python [default]",
   "language": "python",
   "name": "python3"
  },
  "language_info": {
   "codemirror_mode": {
    "name": "ipython",
    "version": 3
   },
   "file_extension": ".py",
   "mimetype": "text/x-python",
   "name": "python",
   "nbconvert_exporter": "python",
   "pygments_lexer": "ipython3",
   "version": "3.5.4"
  }
 },
 "nbformat": 4,
 "nbformat_minor": 2
}
